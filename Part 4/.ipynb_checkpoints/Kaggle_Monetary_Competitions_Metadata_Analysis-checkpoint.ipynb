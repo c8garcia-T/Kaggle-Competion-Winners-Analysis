{
 "cells": [
  {
   "cell_type": "code",
   "execution_count": null,
   "id": "2e52554e-0827-4553-95e7-29a8f2effc32",
   "metadata": {},
   "outputs": [],
   "source": []
  },
  {
   "cell_type": "code",
   "execution_count": 1,
   "id": "eca3cb0e-a437-40e1-aba1-c11533a6f4bb",
   "metadata": {},
   "outputs": [],
   "source": [
    "# Tools\n",
    "import pandas\n",
    "import plotly.express as px"
   ]
  },
  {
   "cell_type": "code",
   "execution_count": null,
   "id": "277e5dd4-a204-49ac-bf8b-c97dae20d4fd",
   "metadata": {},
   "outputs": [],
   "source": [
    "# Data\n",
    "competitions_meta = pd.read_csv(\n",
    "    \"Part 2/Kaggle_monetary_competitions_cleaned.csv\", parse_dates=[\"deadline_estimate\"]\n",
    ")"
   ]
  }
 ],
 "metadata": {
  "kernelspec": {
   "display_name": "Python 3 (ipykernel)",
   "language": "python",
   "name": "python3"
  },
  "language_info": {
   "codemirror_mode": {
    "name": "ipython",
    "version": 3
   },
   "file_extension": ".py",
   "mimetype": "text/x-python",
   "name": "python",
   "nbconvert_exporter": "python",
   "pygments_lexer": "ipython3",
   "version": "3.9.13"
  }
 },
 "nbformat": 4,
 "nbformat_minor": 5
}
